{
 "cells": [
  {
   "cell_type": "code",
   "execution_count": 2,
   "id": "liable-modern",
   "metadata": {},
   "outputs": [],
   "source": [
    " from array import *"
   ]
  },
  {
   "cell_type": "code",
   "execution_count": 3,
   "id": "center-apple",
   "metadata": {},
   "outputs": [
    {
     "data": {
      "text/plain": [
       "array('i', [1, 2, 3, 4, 5, 6])"
      ]
     },
     "execution_count": 3,
     "metadata": {},
     "output_type": "execute_result"
    }
   ],
   "source": [
    "a=array('i',(1,2,3,4,5,6))\n",
    "a"
   ]
  },
  {
   "cell_type": "markdown",
   "id": "fundamental-mainstream",
   "metadata": {},
   "source": [
    "#sai"
   ]
  },
  {
   "cell_type": "markdown",
   "id": "minus-trinidad",
   "metadata": {},
   "source": [
    "# sai\n"
   ]
  },
  {
   "cell_type": "code",
   "execution_count": null,
   "id": "painted-level",
   "metadata": {},
   "outputs": [],
   "source": []
  },
  {
   "cell_type": "code",
   "execution_count": null,
   "id": "eastern-finland",
   "metadata": {},
   "outputs": [],
   "source": []
  }
 ],
 "metadata": {
  "kernelspec": {
   "display_name": "Python 3",
   "language": "python",
   "name": "python3"
  },
  "language_info": {
   "codemirror_mode": {
    "name": "ipython",
    "version": 3
   },
   "file_extension": ".py",
   "mimetype": "text/x-python",
   "name": "python",
   "nbconvert_exporter": "python",
   "pygments_lexer": "ipython3",
   "version": "3.6.5"
  }
 },
 "nbformat": 4,
 "nbformat_minor": 5
}
